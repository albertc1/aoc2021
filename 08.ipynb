{
 "cells": [
  {
   "cell_type": "code",
   "execution_count": 12,
   "metadata": {
    "ExecuteTime": {
     "end_time": "2021-12-13T04:03:01.752958Z",
     "start_time": "2021-12-13T04:03:01.748950Z"
    }
   },
   "outputs": [],
   "source": [
    "EX = '''be cfbegad cbdgef fgaecd cgeb fdcge agebfd fecdb fabcd edb | fdgacbe cefdb cefbgd gcbe\n",
    "edbfga begcd cbg gc gcadebf fbgde acbgfd abcde gfcbed gfec | fcgedb cgb dgebacf gc\n",
    "fgaebd cg bdaec gdafb agbcfd gdcbef bgcad gfac gcb cdgabef | cg cg fdcagb cbg\n",
    "fbegcd cbd adcefb dageb afcb bc aefdc ecdab fgdeca fcdbega | efabcd cedba gadfec cb\n",
    "aecbfdg fbg gf bafeg dbefa fcge gcbea fcaegb dgceab fcbdga | gecf egdcabf bgf bfgea\n",
    "fgeab ca afcebg bdacfeg cfaedg gcfdb baec bfadeg bafgc acf | gebdcfa ecba ca fadegcb\n",
    "dbcfg fgd bdegcaf fgec aegbdf ecdfab fbedc dacgb gdcebf gf | cefg dcbef fcge gbcadfe\n",
    "bdfegc cbegaf gecbf dfcage bdacg ed bedf ced adcbefg gebcd | ed bcgafe cdgba cbgef\n",
    "egadfb cdbfeg cegd fecab cgb gbdefca cg fgcdab egfdb bfceg | gbdfcae bgc cg cgb\n",
    "gcafb gcf dcaebfg ecagb gf abcdeg gaef cafbge fdbac fegbdc | fgae cfgab fg bagce'''\n",
    "\n",
    "with open('input08.txt') as f:\n",
    "    MINE = f.read()\n",
    "    \n"
   ]
  },
  {
   "cell_type": "code",
   "execution_count": 13,
   "metadata": {
    "ExecuteTime": {
     "end_time": "2021-12-13T04:03:02.126553Z",
     "start_time": "2021-12-13T04:03:02.120135Z"
    }
   },
   "outputs": [
    {
     "data": {
      "text/plain": [
       "26"
      ]
     },
     "execution_count": 13,
     "metadata": {},
     "output_type": "execute_result"
    }
   ],
   "source": [
    "def p1(txt):\n",
    "    ct = 0\n",
    "    for line in txt.strip().split('\\n'):\n",
    "        _, out = line.split('|')\n",
    "        ct += len([x for x in out.split() if len(x) in {2,3,4,7}])\n",
    "    return ct\n",
    " \n",
    "p1(EX)"
   ]
  },
  {
   "cell_type": "code",
   "execution_count": 14,
   "metadata": {
    "ExecuteTime": {
     "end_time": "2021-12-13T04:03:02.712846Z",
     "start_time": "2021-12-13T04:03:02.708209Z"
    }
   },
   "outputs": [
    {
     "data": {
      "text/plain": [
       "310"
      ]
     },
     "execution_count": 14,
     "metadata": {},
     "output_type": "execute_result"
    }
   ],
   "source": [
    "p1(MINE)"
   ]
  },
  {
   "cell_type": "code",
   "execution_count": 51,
   "metadata": {
    "ExecuteTime": {
     "end_time": "2021-12-13T06:20:03.239020Z",
     "start_time": "2021-12-13T06:20:03.188708Z"
    }
   },
   "outputs": [
    {
     "data": {
      "text/plain": [
       "5353"
      ]
     },
     "execution_count": 51,
     "metadata": {},
     "output_type": "execute_result"
    }
   ],
   "source": [
    "NUMMAP = {\n",
    "    'abcefg': 0,\n",
    "    'cf': 1,\n",
    "    'acdeg': 2,\n",
    "    'acdfg': 3,\n",
    "    'bcdf': 4,\n",
    "    'abdfg': 5,\n",
    "    'abdefg': 6,\n",
    "    'acf': 7,\n",
    "    'abcdefg': 8,\n",
    "    'abcdfg': 9,\n",
    "}\n",
    "\n",
    "SEGMAP = {\n",
    "    num: set(segs)\n",
    "    for segs, num in NUMMAP.items()\n",
    "}\n",
    "\n",
    "UNIQUE_LENGTHS = {\n",
    "    2: 1,\n",
    "    3: 7,\n",
    "    4: 4,\n",
    "    7: 8,\n",
    "}\n",
    "\n",
    "def p2(txt):\n",
    "    tot = 0\n",
    "    for line in txt.strip().split('\\n'):\n",
    "        inp, out = line.split('|')\n",
    "        tot += decode(inp.split(), out.split())\n",
    "    return tot\n",
    "\n",
    "from functools import reduce\n",
    "\n",
    "def decode(inp, out):\n",
    "    poss = {c:set('abcdefg') for c in 'abcdefg'}\n",
    "    nums = [None] * 10\n",
    "    for digit in set(inp + out):\n",
    "        poss_segs = reduce(\n",
    "            lambda x,y: x | y,\n",
    "            [poss for poss in SEGMAP.values() if len(poss) == len(digit)]\n",
    "        )\n",
    "        for seg in digit:\n",
    "            poss[seg] &= poss_segs\n",
    "        \n",
    "        forced = UNIQUE_LENGTHS.get(len(digit))\n",
    "        if forced:\n",
    "            nums[len(digit)] = forced\n",
    "            for seg in set('abcdefg') - set(digit):\n",
    "                poss[seg] = poss[seg] - SEGMAP[forced]\n",
    "        elif len(digit) == 6:\n",
    "            for seg in set('abcdefg') - set(digit):\n",
    "                poss[seg] &= {'c','e','d'}\n",
    "        elif len(digit) == 5:\n",
    "            for seg in set('abcdefg') - set(digit):\n",
    "                poss[seg] &= {'b', 'c','e','f'}\n",
    "\n",
    "    known = {}\n",
    "    def _deduce(seg, mapped):\n",
    "        known[seg] = mapped\n",
    "        for seg2, p in poss.items():\n",
    "            if mapped in p:\n",
    "                p.remove(mapped)\n",
    "                if len(p) == 1:\n",
    "                    _deduce(seg2, p.pop())\n",
    "    for seg, p in poss.items():\n",
    "        if len(p) == 1:\n",
    "            _deduce(seg, p.pop())\n",
    "    if len(known) != 7:\n",
    "        print(poss)\n",
    "    \n",
    "    val = 0\n",
    "    for digit in out:\n",
    "        val *= 10\n",
    "        translated = ''.join(sorted([\n",
    "            known[seg]\n",
    "            for seg in digit\n",
    "        ]))\n",
    "        val += NUMMAP[translated]\n",
    "        \n",
    "    return val\n",
    "\n",
    "    \n",
    "EX2 ='acedgfb cdfbe gcdfa fbcad dab cefabd cdfgeb eafb cagedb ab | cdfeb fcadb cdfeb cdbaf' \n",
    "p2(EX2)"
   ]
  },
  {
   "cell_type": "code",
   "execution_count": 52,
   "metadata": {
    "ExecuteTime": {
     "end_time": "2021-12-13T06:20:09.539939Z",
     "start_time": "2021-12-13T06:20:09.527393Z"
    }
   },
   "outputs": [
    {
     "data": {
      "text/plain": [
       "61229"
      ]
     },
     "execution_count": 52,
     "metadata": {},
     "output_type": "execute_result"
    }
   ],
   "source": [
    "p2(EX)"
   ]
  },
  {
   "cell_type": "code",
   "execution_count": 53,
   "metadata": {
    "ExecuteTime": {
     "end_time": "2021-12-13T06:20:14.778935Z",
     "start_time": "2021-12-13T06:20:14.694676Z"
    }
   },
   "outputs": [
    {
     "data": {
      "text/plain": [
       "915941"
      ]
     },
     "execution_count": 53,
     "metadata": {},
     "output_type": "execute_result"
    }
   ],
   "source": [
    "p2(MINE)"
   ]
  },
  {
   "cell_type": "code",
   "execution_count": null,
   "metadata": {},
   "outputs": [],
   "source": []
  }
 ],
 "metadata": {
  "kernelspec": {
   "display_name": "Python 3",
   "language": "python",
   "name": "python3"
  },
  "language_info": {
   "codemirror_mode": {
    "name": "ipython",
    "version": 3
   },
   "file_extension": ".py",
   "mimetype": "text/x-python",
   "name": "python",
   "nbconvert_exporter": "python",
   "pygments_lexer": "ipython3",
   "version": "3.8.2"
  },
  "toc": {
   "base_numbering": 1,
   "nav_menu": {},
   "number_sections": true,
   "sideBar": true,
   "skip_h1_title": false,
   "title_cell": "Table of Contents",
   "title_sidebar": "Contents",
   "toc_cell": false,
   "toc_position": {},
   "toc_section_display": true,
   "toc_window_display": false
  }
 },
 "nbformat": 4,
 "nbformat_minor": 4
}
