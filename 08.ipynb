{
 "cells": [
  {
   "cell_type": "code",
   "execution_count": 66,
   "metadata": {
    "ExecuteTime": {
     "end_time": "2021-12-13T07:21:19.801900Z",
     "start_time": "2021-12-13T07:21:19.797962Z"
    }
   },
   "outputs": [],
   "source": [
    "EX = '''be cfbegad cbdgef fgaecd cgeb fdcge agebfd fecdb fabcd edb | fdgacbe cefdb cefbgd gcbe\n",
    "edbfga begcd cbg gc gcadebf fbgde acbgfd abcde gfcbed gfec | fcgedb cgb dgebacf gc\n",
    "fgaebd cg bdaec gdafb agbcfd gdcbef bgcad gfac gcb cdgabef | cg cg fdcagb cbg\n",
    "fbegcd cbd adcefb dageb afcb bc aefdc ecdab fgdeca fcdbega | efabcd cedba gadfec cb\n",
    "aecbfdg fbg gf bafeg dbefa fcge gcbea fcaegb dgceab fcbdga | gecf egdcabf bgf bfgea\n",
    "fgeab ca afcebg bdacfeg cfaedg gcfdb baec bfadeg bafgc acf | gebdcfa ecba ca fadegcb\n",
    "dbcfg fgd bdegcaf fgec aegbdf ecdfab fbedc dacgb gdcebf gf | cefg dcbef fcge gbcadfe\n",
    "bdfegc cbegaf gecbf dfcage bdacg ed bedf ced adcbefg gebcd | ed bcgafe cdgba cbgef\n",
    "egadfb cdbfeg cegd fecab cgb gbdefca cg fgcdab egfdb bfceg | gbdfcae bgc cg cgb\n",
    "gcafb gcf dcaebfg ecagb gf abcdeg gaef cafbge fdbac fegbdc | fgae cfgab fg bagce'''\n",
    "\n",
    "with open('input08.txt') as f:\n",
    "    MINE = f.read()\n",
    "    \n"
   ]
  },
  {
   "cell_type": "code",
   "execution_count": 67,
   "metadata": {
    "ExecuteTime": {
     "end_time": "2021-12-13T07:21:20.004588Z",
     "start_time": "2021-12-13T07:21:19.998736Z"
    }
   },
   "outputs": [
    {
     "data": {
      "text/plain": [
       "26"
      ]
     },
     "execution_count": 67,
     "metadata": {},
     "output_type": "execute_result"
    }
   ],
   "source": [
    "def p1(txt):\n",
    "    ct = 0\n",
    "    for line in txt.strip().split('\\n'):\n",
    "        _, out = line.split('|')\n",
    "        ct += len([x for x in out.split() if len(x) in {2,3,4,7}])\n",
    "    return ct\n",
    " \n",
    "p1(EX)"
   ]
  },
  {
   "cell_type": "code",
   "execution_count": 68,
   "metadata": {
    "ExecuteTime": {
     "end_time": "2021-12-13T07:21:20.170531Z",
     "start_time": "2021-12-13T07:21:20.165885Z"
    }
   },
   "outputs": [
    {
     "data": {
      "text/plain": [
       "310"
      ]
     },
     "execution_count": 68,
     "metadata": {},
     "output_type": "execute_result"
    }
   ],
   "source": [
    "p1(MINE)"
   ]
  },
  {
   "cell_type": "code",
   "execution_count": 69,
   "metadata": {
    "ExecuteTime": {
     "end_time": "2021-12-13T07:21:20.778311Z",
     "start_time": "2021-12-13T07:21:20.765874Z"
    }
   },
   "outputs": [
    {
     "data": {
      "text/plain": [
       "5353"
      ]
     },
     "execution_count": 69,
     "metadata": {},
     "output_type": "execute_result"
    }
   ],
   "source": [
    "UNIQUE_LENGTHS = {\n",
    "    2: 1,\n",
    "    3: 7,\n",
    "    4: 4,\n",
    "    7: 8,\n",
    "}\n",
    "\n",
    "def p2(txt):\n",
    "    tot = 0\n",
    "    for line in txt.strip().split('\\n'):\n",
    "        inp, out = line.split('|')\n",
    "        tot += decode(inp.split(), out.split())\n",
    "    return tot\n",
    "\n",
    "def decode(inp, out):\n",
    "    known = {}\n",
    "    seg_sets = {}\n",
    "\n",
    "    inp = [''.join(sorted(digit)) for digit in inp]\n",
    "    out = [''.join(sorted(digit)) for digit in out]\n",
    "    \n",
    "    for digit in inp:\n",
    "        forced = UNIQUE_LENGTHS.get(len(digit))\n",
    "        if forced:\n",
    "            known[digit] = forced\n",
    "            seg_sets[forced] = set(digit)\n",
    "            \n",
    "    for digit in inp:\n",
    "        if len(digit) == 6:\n",
    "            segs = set(digit)\n",
    "            if segs >= seg_sets[4]:\n",
    "                known[digit] = 9\n",
    "            elif segs >= seg_sets[7]:\n",
    "                known[digit] = 0\n",
    "            else:\n",
    "                known[digit] = 6\n",
    "        elif len(digit) == 5:\n",
    "            segs = set(digit)\n",
    "            if segs >= seg_sets[7]:\n",
    "                known[digit] = 3\n",
    "            elif len(seg_sets[4] - segs) == 1:\n",
    "                known[digit] = 5\n",
    "            else:\n",
    "                known[digit] = 2\n",
    "    val = 0\n",
    "    for digit in out:\n",
    "        val *= 10\n",
    "        val += known[digit]\n",
    "        \n",
    "    return val\n",
    "\n",
    "    \n",
    "EX2 ='acedgfb cdfbe gcdfa fbcad dab cefabd cdfgeb eafb cagedb ab | cdfeb fcadb cdfeb cdbaf' \n",
    "p2(EX2)"
   ]
  },
  {
   "cell_type": "code",
   "execution_count": 70,
   "metadata": {
    "ExecuteTime": {
     "end_time": "2021-12-13T07:21:20.953142Z",
     "start_time": "2021-12-13T07:21:20.948526Z"
    }
   },
   "outputs": [
    {
     "data": {
      "text/plain": [
       "61229"
      ]
     },
     "execution_count": 70,
     "metadata": {},
     "output_type": "execute_result"
    }
   ],
   "source": [
    "p2(EX)"
   ]
  },
  {
   "cell_type": "code",
   "execution_count": 71,
   "metadata": {
    "ExecuteTime": {
     "end_time": "2021-12-13T07:21:21.602988Z",
     "start_time": "2021-12-13T07:21:21.593716Z"
    }
   },
   "outputs": [
    {
     "data": {
      "text/plain": [
       "915941"
      ]
     },
     "execution_count": 71,
     "metadata": {},
     "output_type": "execute_result"
    }
   ],
   "source": [
    "p2(MINE)"
   ]
  },
  {
   "cell_type": "code",
   "execution_count": null,
   "metadata": {},
   "outputs": [],
   "source": []
  }
 ],
 "metadata": {
  "kernelspec": {
   "display_name": "Python 3",
   "language": "python",
   "name": "python3"
  },
  "language_info": {
   "codemirror_mode": {
    "name": "ipython",
    "version": 3
   },
   "file_extension": ".py",
   "mimetype": "text/x-python",
   "name": "python",
   "nbconvert_exporter": "python",
   "pygments_lexer": "ipython3",
   "version": "3.8.2"
  },
  "toc": {
   "base_numbering": 1,
   "nav_menu": {},
   "number_sections": true,
   "sideBar": true,
   "skip_h1_title": false,
   "title_cell": "Table of Contents",
   "title_sidebar": "Contents",
   "toc_cell": false,
   "toc_position": {},
   "toc_section_display": true,
   "toc_window_display": false
  }
 },
 "nbformat": 4,
 "nbformat_minor": 4
}
