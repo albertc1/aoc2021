{
 "cells": [
  {
   "cell_type": "code",
   "execution_count": 88,
   "metadata": {
    "ExecuteTime": {
     "end_time": "2021-12-12T13:27:20.539899Z",
     "start_time": "2021-12-12T13:27:20.528514Z"
    }
   },
   "outputs": [
    {
     "data": {
      "text/plain": [
       "10"
      ]
     },
     "execution_count": 88,
     "metadata": {},
     "output_type": "execute_result"
    }
   ],
   "source": [
    "from collections import defaultdict\n",
    "\n",
    "EX = '''start-A\n",
    "start-b\n",
    "A-c\n",
    "A-b\n",
    "b-d\n",
    "A-end\n",
    "b-end'''\n",
    "\n",
    "EX2 = '''dc-end\n",
    "HN-start\n",
    "start-kj\n",
    "dc-start\n",
    "dc-HN\n",
    "LN-dc\n",
    "HN-end\n",
    "kj-sa\n",
    "kj-HN\n",
    "kj-dc'''\n",
    "\n",
    "\n",
    "MINE = '''QF-bw\n",
    "end-ne\n",
    "po-ju\n",
    "QF-lo\n",
    "po-start\n",
    "XL-ne\n",
    "bw-US\n",
    "ne-lo\n",
    "nu-ne\n",
    "bw-po\n",
    "QF-ne\n",
    "ne-ju\n",
    "start-lo\n",
    "lo-XL\n",
    "QF-ju\n",
    "end-ju\n",
    "XL-end\n",
    "bw-ju\n",
    "nu-start\n",
    "lo-nu\n",
    "nu-XL\n",
    "xb-XL\n",
    "XL-po'''\n",
    "\n",
    "def parse(txt):\n",
    "    graph = defaultdict(set)\n",
    "    for line in txt.split():\n",
    "        a, b = line.split('-')\n",
    "        graph[a].add(b)\n",
    "        if a != 'start':\n",
    "            graph[b].add(a)\n",
    "    return graph\n",
    "        \n",
    "parse(EX)\n",
    "\n",
    "\n",
    "def traverse(graph, max_visits=1):\n",
    "    visits = {}\n",
    "    for n in graph:\n",
    "        if n.islower():\n",
    "            visits[n] = 0\n",
    "    \n",
    "    def count_subpaths(x, max_v):\n",
    "        if x == 'end':\n",
    "            return 1\n",
    "        if x in visits:\n",
    "            visits[x] += 1\n",
    "            if visits[x] == max_v:\n",
    "                max_v = 1\n",
    "        ct = sum([\n",
    "            count_subpaths(y, max_v)\n",
    "            for y in graph[x]\n",
    "            if visits.get(y, 0) < max_v\n",
    "        ])\n",
    "        if x in visits:\n",
    "            visits[x] -= 1\n",
    "        return ct\n",
    "    \n",
    "    return count_subpaths('start', max_visits)\n",
    "    \n",
    "    \n",
    "traverse(parse(EX))"
   ]
  },
  {
   "cell_type": "code",
   "execution_count": 89,
   "metadata": {
    "ExecuteTime": {
     "end_time": "2021-12-12T13:27:21.388113Z",
     "start_time": "2021-12-12T13:27:21.359944Z"
    }
   },
   "outputs": [
    {
     "data": {
      "text/plain": [
       "5104"
      ]
     },
     "execution_count": 89,
     "metadata": {},
     "output_type": "execute_result"
    }
   ],
   "source": [
    "traverse(parse(MINE))"
   ]
  },
  {
   "cell_type": "code",
   "execution_count": 92,
   "metadata": {
    "ExecuteTime": {
     "end_time": "2021-12-12T13:27:26.437669Z",
     "start_time": "2021-12-12T13:27:25.950806Z"
    },
    "scrolled": true
   },
   "outputs": [
    {
     "data": {
      "text/plain": [
       "151171"
      ]
     },
     "execution_count": 92,
     "metadata": {},
     "output_type": "execute_result"
    }
   ],
   "source": [
    "traverse(parse(MINE), 2)"
   ]
  },
  {
   "cell_type": "code",
   "execution_count": null,
   "metadata": {},
   "outputs": [],
   "source": []
  },
  {
   "cell_type": "code",
   "execution_count": null,
   "metadata": {},
   "outputs": [],
   "source": []
  }
 ],
 "metadata": {
  "kernelspec": {
   "display_name": "Python 3",
   "language": "python",
   "name": "python3"
  },
  "language_info": {
   "codemirror_mode": {
    "name": "ipython",
    "version": 3
   },
   "file_extension": ".py",
   "mimetype": "text/x-python",
   "name": "python",
   "nbconvert_exporter": "python",
   "pygments_lexer": "ipython3",
   "version": "3.8.2"
  },
  "toc": {
   "base_numbering": 1,
   "nav_menu": {},
   "number_sections": true,
   "sideBar": true,
   "skip_h1_title": false,
   "title_cell": "Table of Contents",
   "title_sidebar": "Contents",
   "toc_cell": false,
   "toc_position": {},
   "toc_section_display": true,
   "toc_window_display": false
  }
 },
 "nbformat": 4,
 "nbformat_minor": 4
}
