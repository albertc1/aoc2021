{
 "cells": [
  {
   "cell_type": "code",
   "execution_count": 37,
   "metadata": {
    "ExecuteTime": {
     "end_time": "2021-12-13T04:02:18.256249Z",
     "start_time": "2021-12-13T04:02:18.232270Z"
    }
   },
   "outputs": [],
   "source": [
    "EX = '''0,9 -> 5,9\n",
    "8,0 -> 0,8\n",
    "9,4 -> 3,4\n",
    "2,2 -> 2,1\n",
    "7,0 -> 7,4\n",
    "6,4 -> 2,0\n",
    "0,9 -> 2,9\n",
    "3,4 -> 1,4\n",
    "0,0 -> 8,8\n",
    "5,5 -> 8,2'''\n",
    "\n",
    "with open('input05.txt') as f:\n",
    "    MINE = f.read()\n",
    "    \n",
    "import re\n",
    "from collections import defaultdict\n",
    "\n",
    "def p1(txt):\n",
    "    pts = defaultdict(int)\n",
    "    for line in txt.split('\\n'):\n",
    "        if not line.strip():\n",
    "            continue\n",
    "        x1,y1,x2,y2 = [int(n) for n in re.split(',| -> ', line.strip())]\n",
    "        if x1 == x2:\n",
    "            for y in range(min([y1,y2]), max([y1,y2]) + 1):\n",
    "                pts[(x1, y)] += 1\n",
    "        elif y1 == y2:\n",
    "            for x in range(min([x1,x2]), max([x1,x2]) + 1):\n",
    "                pts[(x, y1)] += 1\n",
    "    return len([ct for ct in pts.values() if ct > 1])"
   ]
  },
  {
   "cell_type": "code",
   "execution_count": 38,
   "metadata": {
    "ExecuteTime": {
     "end_time": "2021-12-13T04:02:18.706601Z",
     "start_time": "2021-12-13T04:02:18.693544Z"
    }
   },
   "outputs": [
    {
     "data": {
      "text/plain": [
       "5"
      ]
     },
     "execution_count": 38,
     "metadata": {},
     "output_type": "execute_result"
    }
   ],
   "source": [
    "p1(EX)"
   ]
  },
  {
   "cell_type": "code",
   "execution_count": 39,
   "metadata": {
    "ExecuteTime": {
     "end_time": "2021-12-13T04:02:19.046756Z",
     "start_time": "2021-12-13T04:02:19.042618Z"
    }
   },
   "outputs": [
    {
     "data": {
      "text/plain": [
       "0"
      ]
     },
     "execution_count": 39,
     "metadata": {},
     "output_type": "execute_result"
    }
   ],
   "source": [
    "p1(MINE)"
   ]
  },
  {
   "cell_type": "code",
   "execution_count": 34,
   "metadata": {
    "ExecuteTime": {
     "end_time": "2021-12-12T14:16:09.012268Z",
     "start_time": "2021-12-12T14:16:09.005431Z"
    }
   },
   "outputs": [],
   "source": [
    "def p2(txt):\n",
    "    pts = defaultdict(int)\n",
    "    for line in txt.split('\\n'):\n",
    "        if not line.strip():\n",
    "            continue\n",
    "        x1,y1,x2,y2 = [int(n) for n in re.split(',| -> ', line.strip())]\n",
    "\n",
    "        if x1 == x2:\n",
    "            for y in range(min([y1,y2]), max([y1,y2]) + 1):\n",
    "                pts[(x1, y)] += 1\n",
    "        else:\n",
    "            (x1,y1), (x2,y2) = sorted([(x1,y1), (x2,y2)])\n",
    "            slope = (y2-y1)/(x2-x1)\n",
    "            if slope not in [-1.0,0.0,1.0]:\n",
    "                raise ValueError(f'unexpected slope: {slope}')\n",
    "            slope = int(slope)\n",
    "            x,y = x1,y1\n",
    "            while (x,y) != (x2+1,y2+slope):\n",
    "                pts[(x,y)] += 1\n",
    "                x += 1\n",
    "                y += slope\n",
    "                \n",
    "    return len([ct for ct in pts.values() if ct > 1])"
   ]
  },
  {
   "cell_type": "code",
   "execution_count": 35,
   "metadata": {
    "ExecuteTime": {
     "end_time": "2021-12-12T14:16:09.725931Z",
     "start_time": "2021-12-12T14:16:09.721677Z"
    }
   },
   "outputs": [
    {
     "data": {
      "text/plain": [
       "12"
      ]
     },
     "execution_count": 35,
     "metadata": {},
     "output_type": "execute_result"
    }
   ],
   "source": [
    "p2(EX)"
   ]
  },
  {
   "cell_type": "code",
   "execution_count": 36,
   "metadata": {
    "ExecuteTime": {
     "end_time": "2021-12-12T14:16:16.563737Z",
     "start_time": "2021-12-12T14:16:16.402740Z"
    }
   },
   "outputs": [
    {
     "data": {
      "text/plain": [
       "21038"
      ]
     },
     "execution_count": 36,
     "metadata": {},
     "output_type": "execute_result"
    }
   ],
   "source": [
    "p2(MINE)"
   ]
  },
  {
   "cell_type": "code",
   "execution_count": null,
   "metadata": {},
   "outputs": [],
   "source": []
  }
 ],
 "metadata": {
  "kernelspec": {
   "display_name": "Python 3",
   "language": "python",
   "name": "python3"
  },
  "language_info": {
   "codemirror_mode": {
    "name": "ipython",
    "version": 3
   },
   "file_extension": ".py",
   "mimetype": "text/x-python",
   "name": "python",
   "nbconvert_exporter": "python",
   "pygments_lexer": "ipython3",
   "version": "3.8.2"
  },
  "toc": {
   "base_numbering": 1,
   "nav_menu": {},
   "number_sections": true,
   "sideBar": true,
   "skip_h1_title": false,
   "title_cell": "Table of Contents",
   "title_sidebar": "Contents",
   "toc_cell": false,
   "toc_position": {},
   "toc_section_display": true,
   "toc_window_display": false
  }
 },
 "nbformat": 4,
 "nbformat_minor": 4
}
