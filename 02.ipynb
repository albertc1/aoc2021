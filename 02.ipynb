{
 "cells": [
  {
   "cell_type": "code",
   "execution_count": 28,
   "metadata": {
    "ExecuteTime": {
     "end_time": "2021-12-12T06:02:17.682277Z",
     "start_time": "2021-12-12T06:02:17.673802Z"
    }
   },
   "outputs": [
    {
     "name": "stdout",
     "output_type": "stream",
     "text": [
      "15 10\n"
     ]
    },
    {
     "data": {
      "text/plain": [
       "150"
      ]
     },
     "execution_count": 28,
     "metadata": {},
     "output_type": "execute_result"
    }
   ],
   "source": [
    "EX = '''forward 5\n",
    "down 5\n",
    "forward 8\n",
    "up 3\n",
    "down 8\n",
    "forward 2'''\n",
    "\n",
    "with open('input02.txt') as f:\n",
    "    MINE = f.read()\n",
    "\n",
    "def p1(txt):\n",
    "    h = 0\n",
    "    v = 0\n",
    "    for line in txt.split('\\n'):\n",
    "        cmd, val = line.split()\n",
    "        val = int(val)\n",
    "        if cmd == 'down':\n",
    "            v += val\n",
    "        elif cmd == 'up':\n",
    "            v -= val\n",
    "        elif cmd == 'forward':\n",
    "            h += val\n",
    "        else:\n",
    "            print(f'wut {cmd}')\n",
    "    print(h,v)\n",
    "    return h * v\n",
    "\n",
    "p1(EX)"
   ]
  },
  {
   "cell_type": "code",
   "execution_count": 29,
   "metadata": {
    "ExecuteTime": {
     "end_time": "2021-12-12T06:02:24.635741Z",
     "start_time": "2021-12-12T06:02:24.630005Z"
    }
   },
   "outputs": [
    {
     "name": "stdout",
     "output_type": "stream",
     "text": [
      "1980 951\n"
     ]
    },
    {
     "data": {
      "text/plain": [
       "1882980"
      ]
     },
     "execution_count": 29,
     "metadata": {},
     "output_type": "execute_result"
    }
   ],
   "source": [
    "p1(MINE)"
   ]
  },
  {
   "cell_type": "code",
   "execution_count": null,
   "metadata": {},
   "outputs": [],
   "source": [
    "\"\"\"\n",
    "down X increases your aim by X units.\n",
    "up X decreases your aim by X units.\n",
    "forward X does two things:\n",
    "It increases your horizontal position by X units.\n",
    "It increases your depth by your aim multiplied by X.\"\"\""
   ]
  },
  {
   "cell_type": "code",
   "execution_count": 30,
   "metadata": {
    "ExecuteTime": {
     "end_time": "2021-12-12T06:05:16.831378Z",
     "start_time": "2021-12-12T06:05:16.826851Z"
    }
   },
   "outputs": [],
   "source": [
    "def p2(txt):\n",
    "    h = 0\n",
    "    v = 0\n",
    "    aim = 0\n",
    "    for line in txt.split('\\n'):\n",
    "        cmd, val = line.split()\n",
    "        val = int(val)\n",
    "        if cmd == 'down':\n",
    "            aim += val\n",
    "        elif cmd == 'up':\n",
    "            aim -= val\n",
    "        elif cmd == 'forward':\n",
    "            h += val\n",
    "            v += val * aim\n",
    "        else:\n",
    "            print(f'wut {cmd}')\n",
    "    print(h,v)\n",
    "    return h * v"
   ]
  },
  {
   "cell_type": "code",
   "execution_count": 31,
   "metadata": {
    "ExecuteTime": {
     "end_time": "2021-12-12T06:05:20.022560Z",
     "start_time": "2021-12-12T06:05:20.018184Z"
    }
   },
   "outputs": [
    {
     "name": "stdout",
     "output_type": "stream",
     "text": [
      "15 60\n"
     ]
    },
    {
     "data": {
      "text/plain": [
       "900"
      ]
     },
     "execution_count": 31,
     "metadata": {},
     "output_type": "execute_result"
    }
   ],
   "source": [
    "p2(EX)"
   ]
  },
  {
   "cell_type": "code",
   "execution_count": 32,
   "metadata": {
    "ExecuteTime": {
     "end_time": "2021-12-12T06:05:22.882694Z",
     "start_time": "2021-12-12T06:05:22.877453Z"
    }
   },
   "outputs": [
    {
     "name": "stdout",
     "output_type": "stream",
     "text": [
      "1980 995572\n"
     ]
    },
    {
     "data": {
      "text/plain": [
       "1971232560"
      ]
     },
     "execution_count": 32,
     "metadata": {},
     "output_type": "execute_result"
    }
   ],
   "source": [
    "p2(MINE)"
   ]
  },
  {
   "cell_type": "code",
   "execution_count": null,
   "metadata": {},
   "outputs": [],
   "source": []
  }
 ],
 "metadata": {
  "kernelspec": {
   "display_name": "Python 3",
   "language": "python",
   "name": "python3"
  },
  "language_info": {
   "codemirror_mode": {
    "name": "ipython",
    "version": 3
   },
   "file_extension": ".py",
   "mimetype": "text/x-python",
   "name": "python",
   "nbconvert_exporter": "python",
   "pygments_lexer": "ipython3",
   "version": "3.8.2"
  },
  "toc": {
   "base_numbering": 1,
   "nav_menu": {},
   "number_sections": true,
   "sideBar": true,
   "skip_h1_title": false,
   "title_cell": "Table of Contents",
   "title_sidebar": "Contents",
   "toc_cell": false,
   "toc_position": {},
   "toc_section_display": true,
   "toc_window_display": false
  }
 },
 "nbformat": 4,
 "nbformat_minor": 4
}
