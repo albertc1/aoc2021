{
 "cells": [
  {
   "cell_type": "code",
   "execution_count": 14,
   "metadata": {
    "ExecuteTime": {
     "end_time": "2021-12-12T07:16:24.279256Z",
     "start_time": "2021-12-12T07:16:24.275662Z"
    }
   },
   "outputs": [],
   "source": [
    "EX = '''7,4,9,5,11,17,23,2,0,14,21,24,10,16,13,6,15,25,12,22,18,20,8,19,3,26,1\n",
    "\n",
    "22 13 17 11  0\n",
    " 8  2 23  4 24\n",
    "21  9 14 16  7\n",
    " 6 10  3 18  5\n",
    " 1 12 20 15 19\n",
    "\n",
    " 3 15  0  2 22\n",
    " 9 18 13 17  5\n",
    "19  8  7 25 23\n",
    "20 11 10 24  4\n",
    "14 21 16 12  6\n",
    "\n",
    "14 21 17 24  4\n",
    "10 16 15  9 19\n",
    "18  8 23 26 20\n",
    "22 11 13  6  5\n",
    " 2  0 12  3  7'''\n",
    "\n",
    "with open('input04.txt') as f:\n",
    "    MINE = f.read().strip()"
   ]
  },
  {
   "cell_type": "code",
   "execution_count": 15,
   "metadata": {
    "ExecuteTime": {
     "end_time": "2021-12-12T07:16:35.606176Z",
     "start_time": "2021-12-12T07:16:35.600882Z"
    }
   },
   "outputs": [],
   "source": [
    "def parse(txt):\n",
    "    segments = txt.split('\\n\\n')\n",
    "    nums = [int(x) for x in segments[0].split(',')]\n",
    "    boards = []\n",
    "    for seg in segments[1:]:\n",
    "        rows = [\n",
    "            [int(x) for x in row.split()]\n",
    "            for row in seg.split('\\n')\n",
    "        ]\n",
    "        cols = [\n",
    "            [row[i] for row in rows]\n",
    "            for i in range(5)\n",
    "        ]\n",
    "        boards.append([set(rc) for rc in rows + cols])\n",
    "    \n",
    "    return nums, boards\n",
    "    "
   ]
  },
  {
   "cell_type": "code",
   "execution_count": 8,
   "metadata": {
    "ExecuteTime": {
     "end_time": "2021-12-12T07:13:58.464891Z",
     "start_time": "2021-12-12T07:13:58.461163Z"
    }
   },
   "outputs": [],
   "source": [
    "def p1(txt):\n",
    "    nums, boards = parse(txt)\n",
    "    for n in nums:\n",
    "        for b in boards:\n",
    "            for rc in b:\n",
    "                rc.discard(n)\n",
    "                if not rc:\n",
    "                    return n * sum([sum(r) for r in b[:5]])\n",
    "                "
   ]
  },
  {
   "cell_type": "code",
   "execution_count": 9,
   "metadata": {
    "ExecuteTime": {
     "end_time": "2021-12-12T07:13:59.648953Z",
     "start_time": "2021-12-12T07:13:59.644930Z"
    }
   },
   "outputs": [
    {
     "data": {
      "text/plain": [
       "4512"
      ]
     },
     "execution_count": 9,
     "metadata": {},
     "output_type": "execute_result"
    }
   ],
   "source": [
    "p1(EX)"
   ]
  },
  {
   "cell_type": "code",
   "execution_count": 16,
   "metadata": {
    "ExecuteTime": {
     "end_time": "2021-12-12T07:16:37.531005Z",
     "start_time": "2021-12-12T07:16:37.521339Z"
    }
   },
   "outputs": [
    {
     "data": {
      "text/plain": [
       "67716"
      ]
     },
     "execution_count": 16,
     "metadata": {},
     "output_type": "execute_result"
    }
   ],
   "source": [
    "p1(MINE)"
   ]
  },
  {
   "cell_type": "code",
   "execution_count": 17,
   "metadata": {
    "ExecuteTime": {
     "end_time": "2021-12-12T07:24:26.904426Z",
     "start_time": "2021-12-12T07:24:26.900023Z"
    }
   },
   "outputs": [],
   "source": [
    "def p2(txt):\n",
    "    nums, boards = parse(txt)\n",
    "    left = len(boards)\n",
    "    for n in nums:\n",
    "        for b in boards:\n",
    "            for rc in b:\n",
    "                rc.discard(n)\n",
    "                if not rc:\n",
    "                    left -= 1\n",
    "                    if not left:\n",
    "                        return n * sum([sum(r) for r in b[:5]])\n",
    "                    break\n",
    "            else:\n",
    "                continue\n",
    "            del(b[:])"
   ]
  },
  {
   "cell_type": "code",
   "execution_count": 18,
   "metadata": {
    "ExecuteTime": {
     "end_time": "2021-12-12T07:24:29.985771Z",
     "start_time": "2021-12-12T07:24:29.981624Z"
    }
   },
   "outputs": [
    {
     "data": {
      "text/plain": [
       "1924"
      ]
     },
     "execution_count": 18,
     "metadata": {},
     "output_type": "execute_result"
    }
   ],
   "source": [
    "p2(EX)"
   ]
  },
  {
   "cell_type": "code",
   "execution_count": 19,
   "metadata": {
    "ExecuteTime": {
     "end_time": "2021-12-12T07:24:43.676779Z",
     "start_time": "2021-12-12T07:24:43.663246Z"
    }
   },
   "outputs": [
    {
     "data": {
      "text/plain": [
       "1830"
      ]
     },
     "execution_count": 19,
     "metadata": {},
     "output_type": "execute_result"
    }
   ],
   "source": [
    "p2(MINE)"
   ]
  },
  {
   "cell_type": "code",
   "execution_count": null,
   "metadata": {},
   "outputs": [],
   "source": []
  }
 ],
 "metadata": {
  "kernelspec": {
   "display_name": "Python 3",
   "language": "python",
   "name": "python3"
  },
  "language_info": {
   "codemirror_mode": {
    "name": "ipython",
    "version": 3
   },
   "file_extension": ".py",
   "mimetype": "text/x-python",
   "name": "python",
   "nbconvert_exporter": "python",
   "pygments_lexer": "ipython3",
   "version": "3.8.2"
  },
  "toc": {
   "base_numbering": 1,
   "nav_menu": {},
   "number_sections": true,
   "sideBar": true,
   "skip_h1_title": false,
   "title_cell": "Table of Contents",
   "title_sidebar": "Contents",
   "toc_cell": false,
   "toc_position": {},
   "toc_section_display": true,
   "toc_window_display": false
  }
 },
 "nbformat": 4,
 "nbformat_minor": 4
}
