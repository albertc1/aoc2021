{
 "cells": [
  {
   "cell_type": "code",
   "execution_count": 9,
   "metadata": {
    "ExecuteTime": {
     "end_time": "2021-12-12T06:35:51.596508Z",
     "start_time": "2021-12-12T06:35:51.587311Z"
    }
   },
   "outputs": [
    {
     "name": "stdout",
     "output_type": "stream",
     "text": [
      "22 9\n"
     ]
    },
    {
     "data": {
      "text/plain": [
       "198"
      ]
     },
     "execution_count": 9,
     "metadata": {},
     "output_type": "execute_result"
    }
   ],
   "source": [
    "EX = '''00100\n",
    "11110\n",
    "10110\n",
    "10111\n",
    "10101\n",
    "01111\n",
    "00111\n",
    "11100\n",
    "10000\n",
    "11001\n",
    "00010\n",
    "01010'''\n",
    "\n",
    "with open('input03.txt') as f:\n",
    "    MINE = f.read()\n",
    "\n",
    "from collections import Counter, defaultdict\n",
    "\n",
    "def p1(txt):\n",
    "    cts = defaultdict(Counter)\n",
    "    for line in txt.split():\n",
    "        for i, c in enumerate(line.strip()):\n",
    "            cts[i].update(c)\n",
    "\n",
    "    gamma = 0\n",
    "    epsilon = 0\n",
    "    for i in range(len(cts)):\n",
    "        gamma *= 2\n",
    "        epsilon *= 2\n",
    "        gamma += int(cts[i].most_common()[0][0])\n",
    "        epsilon += int(cts[i].most_common()[-1][0])\n",
    "        \n",
    "    print(gamma, epsilon)\n",
    "    return gamma * epsilon\n",
    "    \n",
    "p1(EX)"
   ]
  },
  {
   "cell_type": "code",
   "execution_count": 10,
   "metadata": {
    "ExecuteTime": {
     "end_time": "2021-12-12T06:35:57.908324Z",
     "start_time": "2021-12-12T06:35:57.891617Z"
    }
   },
   "outputs": [
    {
     "name": "stdout",
     "output_type": "stream",
     "text": [
      "784 3311\n"
     ]
    },
    {
     "data": {
      "text/plain": [
       "2595824"
      ]
     },
     "execution_count": 10,
     "metadata": {},
     "output_type": "execute_result"
    }
   ],
   "source": [
    "p1(MINE)"
   ]
  },
  {
   "cell_type": "code",
   "execution_count": 31,
   "metadata": {
    "ExecuteTime": {
     "end_time": "2021-12-12T06:56:00.501250Z",
     "start_time": "2021-12-12T06:56:00.495693Z"
    }
   },
   "outputs": [],
   "source": [
    "def p2(txt):\n",
    "    def _get(vals, sort_f, i=0):\n",
    "        if len(vals) == 1:\n",
    "            return int(vals[0], 2)\n",
    "        ctr = Counter([v[i] for v in vals])\n",
    "        c = sort_f([(ct, digit) for digit, ct in ctr.items()])[1]\n",
    "        new_vals = [\n",
    "            v for v in vals\n",
    "            if v[i] == c\n",
    "        ]\n",
    "        return _get(new_vals, sort_f, i+1)\n",
    "    a = _get(txt.split(), max)\n",
    "    b = _get(txt.split(), min)\n",
    "    print(a, b)\n",
    "    return a*b\n"
   ]
  },
  {
   "cell_type": "code",
   "execution_count": 32,
   "metadata": {
    "ExecuteTime": {
     "end_time": "2021-12-12T06:56:01.643995Z",
     "start_time": "2021-12-12T06:56:01.639421Z"
    }
   },
   "outputs": [
    {
     "name": "stdout",
     "output_type": "stream",
     "text": [
      "23 10\n"
     ]
    },
    {
     "data": {
      "text/plain": [
       "230"
      ]
     },
     "execution_count": 32,
     "metadata": {},
     "output_type": "execute_result"
    }
   ],
   "source": [
    "p2(EX)"
   ]
  },
  {
   "cell_type": "code",
   "execution_count": 33,
   "metadata": {
    "ExecuteTime": {
     "end_time": "2021-12-12T06:56:04.749043Z",
     "start_time": "2021-12-12T06:56:04.742806Z"
    }
   },
   "outputs": [
    {
     "name": "stdout",
     "output_type": "stream",
     "text": [
      "781 2734\n"
     ]
    },
    {
     "data": {
      "text/plain": [
       "2135254"
      ]
     },
     "execution_count": 33,
     "metadata": {},
     "output_type": "execute_result"
    }
   ],
   "source": [
    "p2(MINE)"
   ]
  },
  {
   "cell_type": "code",
   "execution_count": null,
   "metadata": {},
   "outputs": [],
   "source": []
  }
 ],
 "metadata": {
  "kernelspec": {
   "display_name": "Python 3",
   "language": "python",
   "name": "python3"
  },
  "language_info": {
   "codemirror_mode": {
    "name": "ipython",
    "version": 3
   },
   "file_extension": ".py",
   "mimetype": "text/x-python",
   "name": "python",
   "nbconvert_exporter": "python",
   "pygments_lexer": "ipython3",
   "version": "3.8.2"
  },
  "toc": {
   "base_numbering": 1,
   "nav_menu": {},
   "number_sections": true,
   "sideBar": true,
   "skip_h1_title": false,
   "title_cell": "Table of Contents",
   "title_sidebar": "Contents",
   "toc_cell": false,
   "toc_position": {},
   "toc_section_display": true,
   "toc_window_display": false
  }
 },
 "nbformat": 4,
 "nbformat_minor": 4
}
