{
 "cells": [
  {
   "cell_type": "code",
   "execution_count": 12,
   "metadata": {
    "ExecuteTime": {
     "end_time": "2021-12-13T05:12:28.918860Z",
     "start_time": "2021-12-13T05:12:28.912338Z"
    }
   },
   "outputs": [],
   "source": [
    "EX = '''6,10\n",
    "0,14\n",
    "9,10\n",
    "0,3\n",
    "10,4\n",
    "4,11\n",
    "6,0\n",
    "6,12\n",
    "4,1\n",
    "0,13\n",
    "10,12\n",
    "3,4\n",
    "3,0\n",
    "8,4\n",
    "1,10\n",
    "2,14\n",
    "8,10\n",
    "9,0\n",
    "\n",
    "fold along y=7\n",
    "fold along x=5\n",
    "'''\n",
    "\n",
    "with open('input13.txt') as f:\n",
    "    MINE = f.read()\n",
    "\n",
    "    \n",
    "def p1(txt):\n",
    "    ds = set()\n",
    "    dots, folds = txt.strip().split('\\n\\n')\n",
    "    for line in dots.strip().split():\n",
    "        x,y = line.split(',')\n",
    "        ds.add((int(x), int(y)))\n",
    "    fold = 655\n",
    "    axis = 0\n",
    "    \n",
    "    for dot in list(ds):\n",
    "        if dot[axis] > fold:\n",
    "            ds.remove(dot)\n",
    "            dot = list(dot)\n",
    "            val = dot[axis]\n",
    "            dot[axis] = fold - (val - fold)\n",
    "            ds.add(tuple(dot))\n",
    "    return len(ds)\n"
   ]
  },
  {
   "cell_type": "code",
   "execution_count": 13,
   "metadata": {
    "ExecuteTime": {
     "end_time": "2021-12-13T05:12:29.585689Z",
     "start_time": "2021-12-13T05:12:29.579979Z"
    }
   },
   "outputs": [
    {
     "data": {
      "text/plain": [
       "743"
      ]
     },
     "execution_count": 13,
     "metadata": {},
     "output_type": "execute_result"
    }
   ],
   "source": [
    "p1(MINE)"
   ]
  },
  {
   "cell_type": "code",
   "execution_count": 29,
   "metadata": {
    "ExecuteTime": {
     "end_time": "2021-12-13T05:23:24.684671Z",
     "start_time": "2021-12-13T05:23:24.676738Z"
    }
   },
   "outputs": [],
   "source": [
    "def p2(txt):\n",
    "    ds = set()\n",
    "    dots, folds = txt.strip().split('\\n\\n')\n",
    "    for line in dots.strip().split():\n",
    "        x,y = line.split(',')\n",
    "        ds.add((int(x), int(y)))\n",
    "    \n",
    "    for line in folds.strip().split('\\n'):\n",
    "        axis, fold = line.split()[-1].split('=')\n",
    "        fold = int(fold)\n",
    "        axis = 1 if axis == 'y' else 0\n",
    "    \n",
    "        for dot in list(ds):\n",
    "            if dot[axis] > fold:\n",
    "                ds.remove(dot)\n",
    "                dot = list(dot)\n",
    "                val = dot[axis]\n",
    "                dot[axis] = fold - (val - fold)\n",
    "                ds.add(tuple(dot))\n",
    "                \n",
    "    max_x = max([x for x,y in ds])\n",
    "    max_y = max([y for x,y in ds])\n",
    "    for y in range(max_y + 1):\n",
    "        line = ''.join([\n",
    "            '#' if (x,y) in ds else '.'\n",
    "            for x in range(max_x + 1)\n",
    "        ])\n",
    "        print(line)\n"
   ]
  },
  {
   "cell_type": "code",
   "execution_count": 30,
   "metadata": {
    "ExecuteTime": {
     "end_time": "2021-12-13T05:23:25.170092Z",
     "start_time": "2021-12-13T05:23:25.166512Z"
    }
   },
   "outputs": [
    {
     "name": "stdout",
     "output_type": "stream",
     "text": [
      "#####\n",
      "#...#\n",
      "#...#\n",
      "#...#\n",
      "#####\n"
     ]
    }
   ],
   "source": [
    "p2(EX)"
   ]
  },
  {
   "cell_type": "code",
   "execution_count": 31,
   "metadata": {
    "ExecuteTime": {
     "end_time": "2021-12-13T05:23:25.930320Z",
     "start_time": "2021-12-13T05:23:25.922965Z"
    }
   },
   "outputs": [
    {
     "name": "stdout",
     "output_type": "stream",
     "text": [
      "###...##..###..#.....##..#..#.#..#.#...\n",
      "#..#.#..#.#..#.#....#..#.#.#..#..#.#...\n",
      "#..#.#....#..#.#....#..#.##...####.#...\n",
      "###..#....###..#....####.#.#..#..#.#...\n",
      "#.#..#..#.#....#....#..#.#.#..#..#.#...\n",
      "#..#..##..#....####.#..#.#..#.#..#.####\n"
     ]
    }
   ],
   "source": [
    "p2(MINE)"
   ]
  },
  {
   "cell_type": "code",
   "execution_count": null,
   "metadata": {},
   "outputs": [],
   "source": []
  }
 ],
 "metadata": {
  "kernelspec": {
   "display_name": "Python 3",
   "language": "python",
   "name": "python3"
  },
  "language_info": {
   "codemirror_mode": {
    "name": "ipython",
    "version": 3
   },
   "file_extension": ".py",
   "mimetype": "text/x-python",
   "name": "python",
   "nbconvert_exporter": "python",
   "pygments_lexer": "ipython3",
   "version": "3.8.2"
  },
  "toc": {
   "base_numbering": 1,
   "nav_menu": {},
   "number_sections": true,
   "sideBar": true,
   "skip_h1_title": false,
   "title_cell": "Table of Contents",
   "title_sidebar": "Contents",
   "toc_cell": false,
   "toc_position": {},
   "toc_section_display": true,
   "toc_window_display": false
  }
 },
 "nbformat": 4,
 "nbformat_minor": 4
}
